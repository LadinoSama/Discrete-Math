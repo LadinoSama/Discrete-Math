{
  "nbformat": 4,
  "nbformat_minor": 0,
  "metadata": {
    "colab": {
      "name": "Copia de LucasnNumbers.ipynb",
      "provenance": [],
      "authorship_tag": "ABX9TyNbYSk3qD5fMmCmoNjvYrEQ",
      "include_colab_link": true
    },
    "kernelspec": {
      "name": "python3",
      "display_name": "Python 3"
    }
  },
  "cells": [
    {
      "cell_type": "markdown",
      "metadata": {
        "id": "view-in-github",
        "colab_type": "text"
      },
      "source": [
        "<a href=\"https://colab.research.google.com/github/LadinoSama/Discrete-Math/blob/master/Copia_de_LucasnNumbers.ipynb\" target=\"_parent\"><img src=\"https://colab.research.google.com/assets/colab-badge.svg\" alt=\"Open In Colab\"/></a>"
      ]
    },
    {
      "cell_type": "code",
      "metadata": {
        "id": "7TBlVwQWFPRG",
        "colab_type": "code",
        "colab": {
          "base_uri": "https://localhost:8080/",
          "height": 119
        },
        "outputId": "46f8fd3d-c72d-4c87-eae4-e7a1ed17da94"
      },
      "source": [
        "\n",
        "class LucasNumber:\n",
        "\n",
        "    def __init__(self):\n",
        "        self.pila = []\n",
        "        self.pila1 = []\n",
        "        self.pila2 = []\n",
        "        self.lucasNumbers(18,1,2,1,3,0,0)\n",
        "\n",
        "    def lucasNumbers(self, n, i, l0, l1, l , closeto1000, greaterthan100):\n",
        "        if n>=2:\n",
        "            if i == n:\n",
        "                print(\"El 18 avo número de la serie de LUcas es: \")\n",
        "                print(l)\n",
        "                print(\"El número mas cercano a 1000 en la serie de lucas es: \")\n",
        "                print(closeto1000)\n",
        "                print(\"El primer número despues del 100 de la serie de Lucas es: \")\n",
        "                print(greaterthan100)\n",
        "            else:\n",
        "                i = i + 1\n",
        "                closeto1000 = self.closeTo1000(l)\n",
        "                greaterthan100 = self.greaterThan100(l)\n",
        "                return self.lucasNumbers(n,i,l1,l1+l0,l1+l0,closeto1000,greaterthan100)\n",
        "\n",
        "    def closeTo1000(self, n):\n",
        "        if not self.pila1:\n",
        "            nearest = 1000-n\n",
        "            self.pila1.append(nearest)\n",
        "            self.pila2.append(n)\n",
        "        else:\n",
        "            nearest = abs(1000-n)\n",
        "            aux = self.pila1.pop()\n",
        "            if nearest < aux:\n",
        "                self.pila1.append(nearest)\n",
        "                self.pila2.pop()\n",
        "                self.pila2.append(n)\n",
        "            else:\n",
        "                self.pila1.append(aux)\n",
        "        return self.pila2[0]\n",
        "\n",
        "    def greaterThan100(self,n):\n",
        "        if n > 100:\n",
        "            if not self.pila:\n",
        "                self.pila.append(n)\n",
        "            else:\n",
        "                if n > self.pila[0]:\n",
        "                    self.pila[0] = self.pila [0]\n",
        "            return self.pila[0]\n",
        "        else:\n",
        "            return 0\n",
        "\n",
        "L = LucasNumber()"
      ],
      "execution_count": null,
      "outputs": [
        {
          "output_type": "stream",
          "text": [
            "El 18 avo número de la serie de LUcas es: \n",
            "5778\n",
            "El número mas cercano a 1000 en la serie de lucas es: \n",
            "843\n",
            "El primer número despues del 100 de la serie de Lucas es: \n",
            "123\n"
          ],
          "name": "stdout"
        }
      ]
    },
    {
      "cell_type": "markdown",
      "metadata": {
        "id": "1z-Th51DFjfO",
        "colab_type": "text"
      },
      "source": [
        "El codigo funciona con una funcion recursiva lucasnumber que recibe 7 parametros: el n-avo numero al que se quiere llegar, el numero de iteracion en que va, L0, L1, Ln, el numero mas cercano a 1000 y el numero de lucas que va despues del 100 (cuyos valores se generan en las funciones closeTo1000 y greaterThan100 respectavemte).\n",
        "el resultado de salida sera el 18-th numero de los numeros de lucas, el numero de lucas mas cercano a 1000 y el numero de lucas inmediatamente desues de 100."
      ]
    }
  ]
}